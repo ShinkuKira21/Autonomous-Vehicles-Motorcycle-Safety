{
 "cells": [
  {
   "cell_type": "code",
   "execution_count": 1,
   "metadata": {},
   "outputs": [],
   "source": [
    "import path\n",
    "from modules.pre_processing.CSV_Conversion import csv_to_model_format\n",
    "\n",
    "input_dir = \"../../datasets/csv/mapping/prepared.csv\"\n",
    "output_dir = \"../../datasets/model/output.yolo/labels\"\n",
    "\n",
    "csv_to_model_format(input_dir, output_dir)"
   ]
  },
  {
   "cell_type": "code",
   "execution_count": 2,
   "metadata": {},
   "outputs": [],
   "source": [
    "import pandas as pd\n",
    "\n",
    "df = pd.read_csv(\"../../datasets/csv/mapping/prepared.csv\")\n",
    "\n",
    "\n",
    "sub_dirs = ['train/', 'valid/', 'test/']\n",
    "\n",
    "df[\"class_name\"] = df[\"Label\"].apply(lambda x: x.split()[0])\n",
    "\n",
    "class_names = df[\"class_name\"].unique()\n",
    "\n",
    "data_string = f\"train: {sub_dirs[0]}\\nval: {sub_dirs[1]}\\ntest: {sub_dirs[2]}\\n\\n\"\n",
    "\n",
    "names_string = \", \".join(f\"'{name}'\" for name in class_names)\n",
    "data_string += f\"nc: {len(class_names)}\\nnames: [{names_string}]\"\n",
    "\n",
    "with open(\"../../datasets/model/output.yolo/data.yaml\", \"w\") as f:\n",
    "    f.write(data_string)"
   ]
  },
  {
   "cell_type": "code",
   "execution_count": 3,
   "metadata": {},
   "outputs": [],
   "source": [
    "import shutil\n",
    "import os\n",
    "import pandas as pd\n",
    "\n",
    "\n",
    "df = pd.read_csv(\"../../datasets/csv/mapping/prepared.csv\")\n",
    "\n",
    "image_paths = df[\"Image Path\"].values\n",
    "\n",
    "dest_dir = \"../../datasets/model/output.yolo/images/\"\n",
    "\n",
    "os.makedirs(dest_dir, exist_ok=True)\n",
    "\n",
    "for image_path in image_paths:\n",
    "    source_path = os.path.join(\"../../datasets/raw/\", image_path)\n",
    "\n",
    "    if os.path.exists(source_path):\n",
    "        shutil.copy2(source_path, dest_dir)"
   ]
  },
  {
   "cell_type": "code",
   "execution_count": 4,
   "metadata": {},
   "outputs": [],
   "source": [
    "import path\n",
    "from modules.pre_processing.CSV_Conversion import csv_to_model_format\n",
    "\n",
    "input_dir = \"../../datasets/csv/mapping/prepared.csv\"\n",
    "output_dir = \"../../datasets/model/output.f_rcnn\"\n",
    "\n",
    "csv_to_model_format(input_dir, output_dir, format=\"RCNN\")"
   ]
  },
  {
   "cell_type": "code",
   "execution_count": 5,
   "metadata": {},
   "outputs": [],
   "source": [
    "import shutil\n",
    "import os\n",
    "import pandas as pd\n",
    "\n",
    "\n",
    "df = pd.read_csv(\"../../datasets/csv/mapping/prepared.csv\")\n",
    "\n",
    "image_paths = df[\"Image Path\"].values\n",
    "dest_dir = \"../../datasets/model/output.f_rcnn/data/\"\n",
    "\n",
    "os.makedirs(dest_dir, exist_ok=True)\n",
    "\n",
    "for image_path in image_paths:\n",
    "    source_path = os.path.join(\"../../datasets/raw/\", image_path)\n",
    "\n",
    "    if os.path.exists(source_path):\n",
    "        shutil.copy2(source_path, dest_dir)"
   ]
  },
  {
   "cell_type": "code",
   "execution_count": 6,
   "metadata": {},
   "outputs": [
    {
     "name": "stdout",
     "output_type": "stream",
     "text": [
      "Every image file has a corresponding label file, and vice versa.\n"
     ]
    }
   ],
   "source": [
    "import os\n",
    "\n",
    "# The directories containing your images and labels\n",
    "image_dir = \"../../datasets/model/output.yolo/images\"\n",
    "label_dir = \"../../datasets/model/output.yolo/labels\"\n",
    "\n",
    "# Get the names of the image and label files, minus the extensions\n",
    "image_names = {os.path.splitext(filename)[0] for filename in os.listdir(image_dir)}\n",
    "label_names = {os.path.splitext(filename)[0] for filename in os.listdir(label_dir)}\n",
    "\n",
    "# Check if there are any image files without a corresponding label file, and vice versa\n",
    "images_without_labels = image_names - label_names\n",
    "labels_without_images = label_names - image_names\n",
    "\n",
    "if images_without_labels:\n",
    "    print(\n",
    "        f\"There are {len(images_without_labels)} image files without a corresponding label file:\"\n",
    "    )\n",
    "\n",
    "if labels_without_images:\n",
    "    print(\n",
    "        f\"There are {len(labels_without_images)} label files without a corresponding image file:\"\n",
    "    )\n",
    "\n",
    "if not images_without_labels and not labels_without_images:\n",
    "    print(\"Every image file has a corresponding label file, and vice versa.\")"
   ]
  },
  {
   "cell_type": "code",
   "execution_count": null,
   "metadata": {},
   "outputs": [],
   "source": []
  }
 ],
 "metadata": {
  "kernelspec": {
   "display_name": "AV Motorcycle Research",
   "language": "python",
   "name": "avmotorenv"
  },
  "language_info": {
   "codemirror_mode": {
    "name": "ipython",
    "version": 3
   },
   "file_extension": ".py",
   "mimetype": "text/x-python",
   "name": "python",
   "nbconvert_exporter": "python",
   "pygments_lexer": "ipython3",
   "version": "3.11.2"
  },
  "orig_nbformat": 4
 },
 "nbformat": 4,
 "nbformat_minor": 2
}
