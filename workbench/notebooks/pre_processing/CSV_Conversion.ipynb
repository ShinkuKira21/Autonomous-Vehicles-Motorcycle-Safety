{
 "cells": [
  {
   "cell_type": "code",
   "execution_count": 4,
   "metadata": {},
   "outputs": [],
   "source": [
    "import path\n",
    "from modules.pre_processing.CSV_Conversion import csv_to_model_format\n",
    "\n",
    "input_dir = \"../../datasets/csv/mapping/prepared.csv\"\n",
    "output_dir =  \"../../datasets/model/output.yolo/labels\"\n",
    "\n",
    "csv_to_model_format(input_dir, output_dir)\n"
   ]
  },
  {
   "cell_type": "code",
   "execution_count": 7,
   "metadata": {},
   "outputs": [],
   "source": [
    "import pandas as pd\n",
    "\n",
    "df = pd.read_csv(\"../../datasets/csv/mapping/prepared.csv\")\n",
    "\n",
    "df[\"class_name\"] = df[\"Label\"].apply(lambda x: x.split()[0])\n",
    "\n",
    "class_names = df[\"class_name\"].unique()\n",
    "\n",
    "names_string = \", \".join(f\"'{name}'\" for name in class_names)\n",
    "data_string = f\"nc: {len(class_names)}\\nnames: [{names_string}]\"\n",
    "\n",
    "with open(\"../../datasets/model/output.yolo/data.yaml\", \"w\") as f:\n",
    "    f.write(data_string)"
   ]
  },
  {
   "cell_type": "code",
   "execution_count": 9,
   "metadata": {},
   "outputs": [],
   "source": [
    "# Copies Images\n",
    "import shutil\n",
    "import os\n",
    "\n",
    "source_dirs = [\n",
    "    '../../datasets/raw/Roboflow/images/',\n",
    "    '../../datasets/raw/Traffic/images/'\n",
    "]\n",
    "dest_dir = '../../datasets/model/output.yolo/images/'\n",
    "\n",
    "os.makedirs(dest_dir, exist_ok=True)\n",
    "\n",
    "for source_dir in source_dirs:\n",
    "    for filename in os.listdir(source_dir):\n",
    "        shutil.copy2(os.path.join(source_dir, filename), dest_dir)"
   ]
  },
  {
   "cell_type": "code",
   "execution_count": 5,
   "metadata": {},
   "outputs": [],
   "source": [
    "import path\n",
    "from modules.pre_processing.CSV_Conversion import csv_to_model_format\n",
    "\n",
    "input_dir = \"../../datasets/csv/mapping/prepared.csv\"\n",
    "output_dir =  \"../../datasets/model/output.f_rcnn\"\n",
    "\n",
    "csv_to_model_format(input_dir, output_dir, format='RCNN')"
   ]
  },
  {
   "cell_type": "code",
   "execution_count": 10,
   "metadata": {},
   "outputs": [],
   "source": [
    "# Copies Images\n",
    "import shutil\n",
    "import os\n",
    "\n",
    "source_dirs = [\n",
    "    '../../datasets/raw/Roboflow/images/',\n",
    "    '../../datasets/raw/Traffic/images/'\n",
    "]\n",
    "dest_dir = '../../datasets/model/output.f_rcnn/data/'\n",
    "\n",
    "os.makedirs(dest_dir, exist_ok=True)\n",
    "\n",
    "for source_dir in source_dirs:\n",
    "    for filename in os.listdir(source_dir):\n",
    "        shutil.copy2(os.path.join(source_dir, filename), dest_dir)"
   ]
  },
  {
   "cell_type": "code",
   "execution_count": null,
   "metadata": {},
   "outputs": [],
   "source": []
  }
 ],
 "metadata": {
  "kernelspec": {
   "display_name": "Autonomous Vehicles MC Research",
   "language": "python",
   "name": "avai"
  },
  "language_info": {
   "codemirror_mode": {
    "name": "ipython",
    "version": 3
   },
   "file_extension": ".py",
   "mimetype": "text/x-python",
   "name": "python",
   "nbconvert_exporter": "python",
   "pygments_lexer": "ipython3",
   "version": "3.9.2"
  },
  "orig_nbformat": 4
 },
 "nbformat": 4,
 "nbformat_minor": 2
}
