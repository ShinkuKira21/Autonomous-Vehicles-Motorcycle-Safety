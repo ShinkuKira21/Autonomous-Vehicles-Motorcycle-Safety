{
 "cells": [
  {
   "cell_type": "code",
   "execution_count": 1,
   "metadata": {},
   "outputs": [
    {
     "name": "stdout",
     "output_type": "stream",
     "text": [
      "['/home/skira21/University of Wales Trinity St. Davids/MSc/Year 4/Project/Autonomous-Vehicles-Motorcycle-Safety/workbench', '/home/skira21/University of Wales Trinity St. Davids/MSc/Year 4/Project/Autonomous-Vehicles-Motorcycle-Safety/workbench/notebooks/pre_processing', '/usr/lib/python39.zip', '/usr/lib/python3.9', '/usr/lib/python3.9/lib-dynload', '', '/home/skira21/University of Wales Trinity St. Davids/MSc/Year 4/Project/Autonomous-Vehicles-Motorcycle-Safety/venv/lib/python3.9/site-packages']\n"
     ]
    },
    {
     "name": "stderr",
     "output_type": "stream",
     "text": [
      "2023-06-15 22:03:23.656015: I tensorflow/tsl/cuda/cudart_stub.cc:28] Could not find cuda drivers on your machine, GPU will not be used.\n",
      "2023-06-15 22:03:23.695379: I tensorflow/tsl/cuda/cudart_stub.cc:28] Could not find cuda drivers on your machine, GPU will not be used.\n",
      "2023-06-15 22:03:23.695929: I tensorflow/core/platform/cpu_feature_guard.cc:182] This TensorFlow binary is optimized to use available CPU instructions in performance-critical operations.\n",
      "To enable the following instructions: AVX2 FMA, in other operations, rebuild TensorFlow with the appropriate compiler flags.\n",
      "2023-06-15 22:03:24.372221: W tensorflow/compiler/tf2tensorrt/utils/py_utils.cc:38] TF-TRT Warning: Could not find TensorRT\n"
     ]
    }
   ],
   "source": [
    "import path\n",
    "from modules.pre_processing.CSV_PreProcessor import preprocess_to_csv\n",
    "\n",
    "# specify your directory containing images and labels\n",
    "input_dir = '../../datasets/raw/Roboflow/'\n",
    "\n",
    "# specify where you want the output CSV file to be saved\n",
    "output_file = '../../datasets/csv/roboflow.csv'\n",
    "\n",
    "# run the preprocessing function\n",
    "preprocess_to_csv(input_dir, output_file)"
   ]
  },
  {
   "cell_type": "code",
   "execution_count": null,
   "metadata": {},
   "outputs": [],
   "source": []
  }
 ],
 "metadata": {
  "kernelspec": {
   "display_name": "Autonomous Vehicles MC Research",
   "language": "python",
   "name": "avai"
  },
  "language_info": {
   "codemirror_mode": {
    "name": "ipython",
    "version": 3
   },
   "file_extension": ".py",
   "mimetype": "text/x-python",
   "name": "python",
   "nbconvert_exporter": "python",
   "pygments_lexer": "ipython3",
   "version": "3.9.2"
  },
  "orig_nbformat": 4
 },
 "nbformat": 4,
 "nbformat_minor": 2
}
