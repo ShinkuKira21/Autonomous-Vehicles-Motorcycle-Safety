{
 "cells": [
  {
   "cell_type": "code",
   "execution_count": 1,
   "metadata": {},
   "outputs": [],
   "source": [
    "allowed_classes = [\n",
    "    \"ambulance\",\n",
    "    \"bus\",\n",
    "    \"car\",\n",
    "    \"minibus\",\n",
    "    \"minivan\",\n",
    "    \"motorcycle\",\n",
    "    \"pickup\",\n",
    "    \"policecar\",\n",
    "    \"rickshaw\",\n",
    "    \"scooter\",\n",
    "    \"suv\",\n",
    "    \"taxi\",\n",
    "    \"three_wheelers_-CNG-\",\n",
    "    \"truck\",\n",
    "    \"van\",\n",
    "    \"person\",\n",
    "]"
   ]
  },
  {
   "cell_type": "code",
   "execution_count": 2,
   "metadata": {},
   "outputs": [
    {
     "name": "stderr",
     "output_type": "stream",
     "text": [
      "2023-07-03 19:25:26.921503: I tensorflow/tsl/cuda/cudart_stub.cc:28] Could not find cuda drivers on your machine, GPU will not be used.\n",
      "2023-07-03 19:25:26.959992: I tensorflow/tsl/cuda/cudart_stub.cc:28] Could not find cuda drivers on your machine, GPU will not be used.\n",
      "2023-07-03 19:25:26.960784: I tensorflow/core/platform/cpu_feature_guard.cc:182] This TensorFlow binary is optimized to use available CPU instructions in performance-critical operations.\n",
      "To enable the following instructions: AVX2 FMA, in other operations, rebuild TensorFlow with the appropriate compiler flags.\n",
      "2023-07-03 19:25:27.568082: W tensorflow/compiler/tf2tensorrt/utils/py_utils.cc:38] TF-TRT Warning: Could not find TensorRT\n"
     ]
    }
   ],
   "source": [
    "import path\n",
    "from modules.pre_processing.CSV_PreProcessor import preprocess_to_csv\n",
    "\n",
    "input_dir = \"../../datasets/raw/Roboflow/\"\n",
    "output_file = \"../../datasets/csv/mapping/roboflow.csv\"\n",
    "\n",
    "preprocess_to_csv(input_dir, output_file, allowed_classes)"
   ]
  },
  {
   "cell_type": "code",
   "execution_count": 3,
   "metadata": {},
   "outputs": [],
   "source": [
    "import path\n",
    "from modules.pre_processing.CSV_PreProcessor import preprocess_to_csv\n",
    "\n",
    "input_dir = \"../../datasets/raw/Traffic/\"\n",
    "output_file = \"../../datasets/csv/mapping/traffic.csv\"\n",
    "\n",
    "preprocess_to_csv(input_dir, output_file, allowed_classes)"
   ]
  },
  {
   "cell_type": "code",
   "execution_count": 4,
   "metadata": {},
   "outputs": [],
   "source": [
    "import path\n",
    "from modules.pre_processing.CSV_PreProcessor import combine_csv\n",
    "\n",
    "input_dir = [\n",
    "    \"../../datasets/csv/mapping/roboflow.csv\",\n",
    "    \"../../datasets/csv/mapping/traffic.csv\",\n",
    "]\n",
    "combine_csv(input_dir, \"../../datasets/csv/mapping/prepared.csv\")"
   ]
  },
  {
   "cell_type": "code",
   "execution_count": 5,
   "metadata": {},
   "outputs": [],
   "source": [
    "# Creates the Mapping\n",
    "import pandas as pd\n",
    "\n",
    "df = pd.read_csv(\"../../datasets/csv/mapping/prepared.csv\")\n",
    "\n",
    "df[\"class_name\"] = df[\"Label\"].apply(lambda x: x.split()[0])\n",
    "\n",
    "class_names = df[\"class_name\"].unique()\n",
    "\n",
    "names_string = \", \".join(f\"'{name}'\" for name in class_names)\n",
    "data_string = f\"nc: {len(class_names)}\\nnames: [{names_string}]\"\n",
    "\n",
    "with open(\"../../datasets/csv/mapping/prepared.yaml\", \"w\") as f:\n",
    "    f.write(data_string)"
   ]
  }
 ],
 "metadata": {
  "kernelspec": {
   "display_name": "Autonomous Vehicles MC Research",
   "language": "python",
   "name": "avai"
  },
  "language_info": {
   "codemirror_mode": {
    "name": "ipython",
    "version": 3
   },
   "file_extension": ".py",
   "mimetype": "text/x-python",
   "name": "python",
   "nbconvert_exporter": "python",
   "pygments_lexer": "ipython3",
   "version": "3.9.2"
  },
  "orig_nbformat": 4
 },
 "nbformat": 4,
 "nbformat_minor": 2
}
