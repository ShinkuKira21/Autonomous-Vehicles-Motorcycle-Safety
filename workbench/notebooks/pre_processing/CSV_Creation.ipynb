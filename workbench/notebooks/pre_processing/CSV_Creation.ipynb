{
 "cells": [
  {
   "cell_type": "code",
   "execution_count": 2,
   "metadata": {},
   "outputs": [],
   "source": [
    "allowed_classes = ['ambulance', 'bus', 'car', 'minibus', 'minivan', 'motorcycle', 'pickup', 'policecar', 'rickshaw', 'scooter', 'suv', 'taxi', 'three wheelers -CNG-', 'truck', 'van', 'person']"
   ]
  },
  {
   "cell_type": "code",
   "execution_count": 3,
   "metadata": {},
   "outputs": [],
   "source": [
    "import path\n",
    "from modules.pre_processing.CSV_PreProcessor import preprocess_to_csv\n",
    "\n",
    "input_dir = \"../../datasets/raw/Roboflow/\"\n",
    "output_file = \"../../datasets/csv/mapping/roboflow.csv\"\n",
    "\n",
    "preprocess_to_csv(input_dir, output_file, allowed_classes)"
   ]
  },
  {
   "cell_type": "code",
   "execution_count": 4,
   "metadata": {},
   "outputs": [],
   "source": [
    "import path\n",
    "from modules.pre_processing.CSV_PreProcessor import preprocess_to_csv\n",
    "\n",
    "input_dir = \"../../datasets/raw/Traffic/\"\n",
    "output_file = \"../../datasets/csv/mapping/traffic.csv\"\n",
    "\n",
    "preprocess_to_csv(input_dir, output_file, allowed_classes)"
   ]
  },
  {
   "cell_type": "code",
   "execution_count": 5,
   "metadata": {},
   "outputs": [],
   "source": [
    "import path\n",
    "from modules.pre_processing.CSV_PreProcessor import combine_csv\n",
    "\n",
    "input_dir = [\"../../datasets/csv/mapping/roboflow.csv\", \"../../datasets/csv/mapping/traffic.csv\"]\n",
    "combine_csv(input_dir, \"../../datasets/csv/mapping/prepared.csv\")"
   ]
  }
 ],
 "metadata": {
  "kernelspec": {
   "display_name": "AV Research",
   "language": "python",
   "name": "av_dissertation"
  },
  "language_info": {
   "codemirror_mode": {
    "name": "ipython",
    "version": 3
   },
   "file_extension": ".py",
   "mimetype": "text/x-python",
   "name": "python",
   "nbconvert_exporter": "python",
   "pygments_lexer": "ipython3",
   "version": "3.10.0"
  },
  "orig_nbformat": 4
 },
 "nbformat": 4,
 "nbformat_minor": 2
}
