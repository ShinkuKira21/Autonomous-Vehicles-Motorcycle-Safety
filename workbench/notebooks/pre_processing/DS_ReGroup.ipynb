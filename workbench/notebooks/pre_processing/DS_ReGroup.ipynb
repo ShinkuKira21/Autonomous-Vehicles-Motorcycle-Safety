{
 "cells": [
  {
   "cell_type": "code",
   "execution_count": 1,
   "metadata": {},
   "outputs": [],
   "source": [
    "# Note: Scripts doesn't fully support 'Traffic.zip', copy the contents within traffic_data into ../ (root directory)\n",
    "\n",
    "# Script contains a clean_up module, so that empty sub_directories are removed.\n",
    "\n",
    "# Note: Rename 'Motorcycle Samples...' to 'Roboflow', and 'traffic' to 'Traffic', otherwise other scripts will fail!\n",
    "\n",
    "# If interested in applying different datasets and models, create an issue to show interest, and a config file will be added to roadmap, to make the project universal. #\n",
    "\n",
    "import os\n",
    "import shutil\n",
    "\n",
    "def group_files(base_dir, exts, new_folder):\n",
    "    new_dir = os.path.join(base_dir, new_folder)\n",
    "    if not os.path.exists(new_dir):\n",
    "        os.makedirs(new_dir)\n",
    "\n",
    "    for root, dirs, files in os.walk(base_dir):\n",
    "        for file in files:\n",
    "            if file.split(\".\")[-1] in exts:\n",
    "                old_file_path = os.path.join(root, file)\n",
    "                new_file_path = os.path.join(new_dir, file)\n",
    "                shutil.move(old_file_path, new_file_path)\n",
    "\n",
    "def clean_up(base_dir):\n",
    "    for root, dirs, files in os.walk(base_dir):\n",
    "        for file in files:\n",
    "            if file == \"labels.cache\":\n",
    "                file_path = os.path.join(root, file)\n",
    "                os.remove(file_path)\n",
    "\n",
    "    for dirpath, dirnames, filenames in os.walk(base_dir, topdown=False):\n",
    "        for dirname in dirnames:\n",
    "            dir_path = os.path.join(dirpath, dirname)\n",
    "            if not os.listdir(dir_path):\n",
    "                os.rmdir(dir_path)"
   ]
  },
  {
   "cell_type": "code",
   "execution_count": 25,
   "metadata": {},
   "outputs": [],
   "source": [
    "base_dir = \"../../datasets/raw/Roboflow\"\n",
    "group_files(base_dir, [\"png\", \"jpg\", \"jpeg\", \"gif\"], \"images\")\n",
    "group_files(base_dir, [\"txt\"], \"labels\")\n",
    "clean_up(base_dir)"
   ]
  },
  {
   "cell_type": "code",
   "execution_count": 26,
   "metadata": {},
   "outputs": [],
   "source": [
    "base_dir = \"../../datasets/raw/Traffic\"\n",
    "group_files(base_dir, [\"png\", \"jpg\", \"jpeg\", \"gif\"], \"images\")\n",
    "group_files(base_dir, [\"txt\"], \"labels\")\n",
    "clean_up(base_dir)\n"
   ]
  }
 ],
 "metadata": {
  "kernelspec": {
   "display_name": "AV Motorcycle Research",
   "language": "python",
   "name": "avmotorenv"
  },
  "language_info": {
   "codemirror_mode": {
    "name": "ipython",
    "version": 3
   },
   "file_extension": ".py",
   "mimetype": "text/x-python",
   "name": "python",
   "nbconvert_exporter": "python",
   "pygments_lexer": "ipython3",
   "version": "3.11.2"
  },
  "orig_nbformat": 4
 },
 "nbformat": 4,
 "nbformat_minor": 2
}
