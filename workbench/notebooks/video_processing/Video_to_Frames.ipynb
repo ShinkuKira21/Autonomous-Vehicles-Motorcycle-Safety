{
 "cells": [
  {
   "cell_type": "code",
   "execution_count": 1,
   "metadata": {},
   "outputs": [],
   "source": [
    "from path import *\n",
    "from modules.video_processing.video_to_image import video_to_frames"
   ]
  },
  {
   "cell_type": "code",
   "execution_count": 5,
   "metadata": {},
   "outputs": [
    {
     "name": "stdout",
     "output_type": "stream",
     "text": [
      "Done extracting frames.\n"
     ]
    }
   ],
   "source": [
    "# Change Paths to Absolute Location\n",
    "video_path = \"/home/edwardpatch1/Documents/UWTSD_Offline/Project/Test/D3T1.mp4\"  # replace with your video path\n",
    "output_dir = \"/home/edwardpatch1/Documents/UWTSD_Offline/Project/Test/D3T1\"  # replace with your output directory\n",
    "\n",
    "video_to_frames(\n",
    "    video_path, output_dir, \"d3_t1\", limiter=125\n",
    ")"
   ]
  },
  {
   "cell_type": "code",
   "execution_count": null,
   "metadata": {},
   "outputs": [],
   "source": []
  }
 ],
 "metadata": {
  "kernelspec": {
   "display_name": "AV Research",
   "language": "python",
   "name": "av_dissertation"
  },
  "language_info": {
   "codemirror_mode": {
    "name": "ipython",
    "version": 3
   },
   "file_extension": ".py",
   "mimetype": "text/x-python",
   "name": "python",
   "nbconvert_exporter": "python",
   "pygments_lexer": "ipython3",
   "version": "3.10.0"
  },
  "orig_nbformat": 4
 },
 "nbformat": 4,
 "nbformat_minor": 2
}
