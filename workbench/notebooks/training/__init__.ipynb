{
 "cells": [
  {
   "cell_type": "code",
   "execution_count": 27,
   "metadata": {},
   "outputs": [],
   "source": [
    "import path\n",
    "import pandas as pd\n",
    "from modules.pre_processing.CSV_PreProcessor import load_and_preprocess_from_path_label\n",
    "import tensorflow as tf\n",
    "\n",
    "\n",
    "def convert_yolo_to_rcnn(df):\n",
    "    df = df.copy()\n",
    "    df[\"x_min\"] = df[\"x_center\"] - df[\"width\"] / 2\n",
    "    df[\"y_min\"] = df[\"y_center\"] - df[\"height\"] / 2\n",
    "    df[\"x_max\"] = df[\"x_center\"] + df[\"width\"] / 2\n",
    "    df[\"y_max\"] = df[\"y_center\"] + df[\"height\"] / 2\n",
    "    df = df.drop(columns=[\"x_center\", \"y_center\", \"width\", \"height\"])\n",
    "    return df\n",
    "\n",
    "\n",
    "def load_data(df):\n",
    "    image_paths = df[\"image_path\"].values\n",
    "    labels = df.drop(columns=\"image_path\")\n",
    "    labels_dict = {col: tf.constant(labels[col].values) for col in labels.columns}\n",
    "    dataset = tf.data.Dataset.from_tensor_slices((image_paths, labels_dict))\n",
    "    dataset = dataset.map(load_and_preprocess_from_path_label)\n",
    "    return dataset"
   ]
  },
  {
   "cell_type": "code",
   "execution_count": 28,
   "metadata": {},
   "outputs": [],
   "source": [
    "from keras.models import Sequential\n",
    "from keras.layers import Conv2D, MaxPooling2D, Flatten, Dense\n",
    "\n",
    "\n",
    "def create_model():\n",
    "    model = Sequential()\n",
    "\n",
    "    model.add(Conv2D(32, (3, 3), input_shape=(416, 416, 3), activation=\"relu\"))\n",
    "    model.add(MaxPooling2D(pool_size=(2, 2)))\n",
    "\n",
    "    model.add(Conv2D(64, (3, 3), activation=\"relu\"))\n",
    "    model.add(MaxPooling2D(pool_size=(2, 2)))\n",
    "\n",
    "    model.add(Flatten())\n",
    "    model.add(Dense(units=128, activation=\"relu\"))\n",
    "    model.add(\n",
    "        Dense(units=6, activation=\"sigmoid\", name=\"dense_3\")\n",
    "    )  # Update the output layer name and number of units\n",
    "\n",
    "    model.compile(optimizer=\"adam\", loss=\"binary_crossentropy\", metrics=[\"accuracy\"])\n",
    "\n",
    "    return model"
   ]
  },
  {
   "cell_type": "code",
   "execution_count": 29,
   "metadata": {},
   "outputs": [],
   "source": [
    "model = create_model()\n",
    "model.compile(optimizer=\"adam\", loss=\"categorical_crossentropy\", metrics=[\"accuracy\"])"
   ]
  },
  {
   "cell_type": "code",
   "execution_count": 30,
   "metadata": {},
   "outputs": [],
   "source": [
    "import path\n",
    "from modules.pre_processing.CSV_PreProcessor import load_csv_from_path\n",
    "\n",
    "x, Y = load_csv_from_path(\"../../datasets/csv/mapping/prepared.csv\")\n",
    "Y.reset_index(drop=True, inplace=True)"
   ]
  },
  {
   "cell_type": "code",
   "execution_count": 31,
   "metadata": {},
   "outputs": [],
   "source": [
    "x = convert_yolo_to_rcnn(x)\n",
    "Y = convert_yolo_to_rcnn(Y)"
   ]
  },
  {
   "cell_type": "code",
   "execution_count": 32,
   "metadata": {},
   "outputs": [],
   "source": [
    "import path\n",
    "import numpy as np\n",
    "\n",
    "import tensorflow as tf\n",
    "\n",
    "train_dataset = load_data(x)\n",
    "test_dataset = load_data(Y)"
   ]
  },
  {
   "cell_type": "code",
   "execution_count": 33,
   "metadata": {},
   "outputs": [],
   "source": [
    "train_dataset = test_dataset.map(lambda x, y: (tf.reshape(x, [-1, 416, 416, 3]), y))\n",
    "test_dataset = test_dataset.map(lambda x, y: (tf.reshape(x, [-1, 416, 416, 3]), y))"
   ]
  },
  {
   "cell_type": "code",
   "execution_count": 34,
   "metadata": {},
   "outputs": [
    {
     "name": "stdout",
     "output_type": "stream",
     "text": [
      "Epoch 1/20\n"
     ]
    },
    {
     "name": "stderr",
     "output_type": "stream",
     "text": [
      "2023-06-26 02:34:29.506376: I tensorflow/core/common_runtime/executor.cc:1197] [/device:CPU:0] (DEBUG INFO) Executor start aborting (this does not indicate an error and you can ignore this message): INVALID_ARGUMENT: You must feed a value for placeholder tensor 'Placeholder/_5' with dtype double and shape [24026]\n",
      "\t [[{{node Placeholder/_5}}]]\n"
     ]
    },
    {
     "ename": "ValueError",
     "evalue": "in user code:\n\n    File \"/home/skira21/University of Wales Trinity St. Davids/MSc/Year 4/Project/Autonomous-Vehicles-Motorcycle-Safety/venv/lib/python3.9/site-packages/keras/engine/training.py\", line 1284, in train_function  *\n        return step_function(self, iterator)\n    File \"/home/skira21/University of Wales Trinity St. Davids/MSc/Year 4/Project/Autonomous-Vehicles-Motorcycle-Safety/venv/lib/python3.9/site-packages/keras/engine/training.py\", line 1268, in step_function  **\n        outputs = model.distribute_strategy.run(run_step, args=(data,))\n    File \"/home/skira21/University of Wales Trinity St. Davids/MSc/Year 4/Project/Autonomous-Vehicles-Motorcycle-Safety/venv/lib/python3.9/site-packages/keras/engine/training.py\", line 1249, in run_step  **\n        outputs = model.train_step(data)\n    File \"/home/skira21/University of Wales Trinity St. Davids/MSc/Year 4/Project/Autonomous-Vehicles-Motorcycle-Safety/venv/lib/python3.9/site-packages/keras/engine/training.py\", line 1050, in train_step\n        y_pred = self(x, training=True)\n    File \"/home/skira21/University of Wales Trinity St. Davids/MSc/Year 4/Project/Autonomous-Vehicles-Motorcycle-Safety/venv/lib/python3.9/site-packages/keras/utils/traceback_utils.py\", line 70, in error_handler\n        raise e.with_traceback(filtered_tb) from None\n    File \"/home/skira21/University of Wales Trinity St. Davids/MSc/Year 4/Project/Autonomous-Vehicles-Motorcycle-Safety/venv/lib/python3.9/site-packages/keras/engine/input_spec.py\", line 298, in assert_input_compatibility\n        raise ValueError(\n\n    ValueError: Input 0 of layer \"sequential_6\" is incompatible with the layer: expected shape=(None, 416, 416, 3), found shape=(416, 416, 3)\n",
     "output_type": "error",
     "traceback": [
      "\u001b[0;31m---------------------------------------------------------------------------\u001b[0m",
      "\u001b[0;31mValueError\u001b[0m                                Traceback (most recent call last)",
      "Cell \u001b[0;32mIn[34], line 1\u001b[0m\n\u001b[0;32m----> 1\u001b[0m history \u001b[39m=\u001b[39m model\u001b[39m.\u001b[39;49mfit(train_dataset, \n\u001b[1;32m      2\u001b[0m                     epochs\u001b[39m=\u001b[39;49m\u001b[39m20\u001b[39;49m, \n\u001b[1;32m      3\u001b[0m                     validation_data\u001b[39m=\u001b[39;49mtest_dataset)\n",
      "File \u001b[0;32m~/University of Wales Trinity St. Davids/MSc/Year 4/Project/Autonomous-Vehicles-Motorcycle-Safety/venv/lib/python3.9/site-packages/keras/utils/traceback_utils.py:70\u001b[0m, in \u001b[0;36mfilter_traceback.<locals>.error_handler\u001b[0;34m(*args, **kwargs)\u001b[0m\n\u001b[1;32m     67\u001b[0m     filtered_tb \u001b[39m=\u001b[39m _process_traceback_frames(e\u001b[39m.\u001b[39m__traceback__)\n\u001b[1;32m     68\u001b[0m     \u001b[39m# To get the full stack trace, call:\u001b[39;00m\n\u001b[1;32m     69\u001b[0m     \u001b[39m# `tf.debugging.disable_traceback_filtering()`\u001b[39;00m\n\u001b[0;32m---> 70\u001b[0m     \u001b[39mraise\u001b[39;00m e\u001b[39m.\u001b[39mwith_traceback(filtered_tb) \u001b[39mfrom\u001b[39;00m \u001b[39mNone\u001b[39;00m\n\u001b[1;32m     71\u001b[0m \u001b[39mfinally\u001b[39;00m:\n\u001b[1;32m     72\u001b[0m     \u001b[39mdel\u001b[39;00m filtered_tb\n",
      "File \u001b[0;32m/tmp/__autograph_generated_file73z2zj6a.py:15\u001b[0m, in \u001b[0;36mouter_factory.<locals>.inner_factory.<locals>.tf__train_function\u001b[0;34m(iterator)\u001b[0m\n\u001b[1;32m     13\u001b[0m \u001b[39mtry\u001b[39;00m:\n\u001b[1;32m     14\u001b[0m     do_return \u001b[39m=\u001b[39m \u001b[39mTrue\u001b[39;00m\n\u001b[0;32m---> 15\u001b[0m     retval_ \u001b[39m=\u001b[39m ag__\u001b[39m.\u001b[39mconverted_call(ag__\u001b[39m.\u001b[39mld(step_function), (ag__\u001b[39m.\u001b[39mld(\u001b[39mself\u001b[39m), ag__\u001b[39m.\u001b[39mld(iterator)), \u001b[39mNone\u001b[39;00m, fscope)\n\u001b[1;32m     16\u001b[0m \u001b[39mexcept\u001b[39;00m:\n\u001b[1;32m     17\u001b[0m     do_return \u001b[39m=\u001b[39m \u001b[39mFalse\u001b[39;00m\n",
      "\u001b[0;31mValueError\u001b[0m: in user code:\n\n    File \"/home/skira21/University of Wales Trinity St. Davids/MSc/Year 4/Project/Autonomous-Vehicles-Motorcycle-Safety/venv/lib/python3.9/site-packages/keras/engine/training.py\", line 1284, in train_function  *\n        return step_function(self, iterator)\n    File \"/home/skira21/University of Wales Trinity St. Davids/MSc/Year 4/Project/Autonomous-Vehicles-Motorcycle-Safety/venv/lib/python3.9/site-packages/keras/engine/training.py\", line 1268, in step_function  **\n        outputs = model.distribute_strategy.run(run_step, args=(data,))\n    File \"/home/skira21/University of Wales Trinity St. Davids/MSc/Year 4/Project/Autonomous-Vehicles-Motorcycle-Safety/venv/lib/python3.9/site-packages/keras/engine/training.py\", line 1249, in run_step  **\n        outputs = model.train_step(data)\n    File \"/home/skira21/University of Wales Trinity St. Davids/MSc/Year 4/Project/Autonomous-Vehicles-Motorcycle-Safety/venv/lib/python3.9/site-packages/keras/engine/training.py\", line 1050, in train_step\n        y_pred = self(x, training=True)\n    File \"/home/skira21/University of Wales Trinity St. Davids/MSc/Year 4/Project/Autonomous-Vehicles-Motorcycle-Safety/venv/lib/python3.9/site-packages/keras/utils/traceback_utils.py\", line 70, in error_handler\n        raise e.with_traceback(filtered_tb) from None\n    File \"/home/skira21/University of Wales Trinity St. Davids/MSc/Year 4/Project/Autonomous-Vehicles-Motorcycle-Safety/venv/lib/python3.9/site-packages/keras/engine/input_spec.py\", line 298, in assert_input_compatibility\n        raise ValueError(\n\n    ValueError: Input 0 of layer \"sequential_6\" is incompatible with the layer: expected shape=(None, 416, 416, 3), found shape=(416, 416, 3)\n"
     ]
    }
   ],
   "source": [
    "history = model.fit(train_dataset, epochs=20, validation_data=test_dataset)"
   ]
  },
  {
   "cell_type": "code",
   "execution_count": null,
   "metadata": {},
   "outputs": [
    {
     "ename": "ModuleNotFoundError",
     "evalue": "No module named 'yolov8.tf'",
     "output_type": "error",
     "traceback": [
      "\u001b[0;31m---------------------------------------------------------------------------\u001b[0m",
      "\u001b[0;31mModuleNotFoundError\u001b[0m                       Traceback (most recent call last)",
      "Cell \u001b[0;32mIn[6], line 3\u001b[0m\n\u001b[1;32m      1\u001b[0m \u001b[39mimport\u001b[39;00m \u001b[39mnumpy\u001b[39;00m \u001b[39mas\u001b[39;00m \u001b[39mnp\u001b[39;00m\n\u001b[1;32m      2\u001b[0m \u001b[39mfrom\u001b[39;00m \u001b[39mmodules\u001b[39;00m\u001b[39m.\u001b[39;00m\u001b[39mpre_processing\u001b[39;00m\u001b[39m.\u001b[39;00m\u001b[39mCSV_PreProcessor\u001b[39;00m \u001b[39mimport\u001b[39;00m load_csv_from_path, load_and_preprocess_from_path_label\n\u001b[0;32m----> 3\u001b[0m \u001b[39mfrom\u001b[39;00m \u001b[39myolov8\u001b[39;00m\u001b[39m.\u001b[39;00m\u001b[39mtf\u001b[39;00m \u001b[39mimport\u001b[39;00m YOLOv8\n\u001b[1;32m      4\u001b[0m \u001b[39mimport\u001b[39;00m \u001b[39mtensorflow\u001b[39;00m \u001b[39mas\u001b[39;00m \u001b[39mtf\u001b[39;00m\n\u001b[1;32m      6\u001b[0m \u001b[39m# Load CSV data\u001b[39;00m\n",
      "\u001b[0;31mModuleNotFoundError\u001b[0m: No module named 'yolov8.tf'"
     ]
    }
   ],
   "source": [
    "import numpy as np\n",
    "from modules.pre_processing.CSV_PreProcessor import (\n",
    "    load_csv_from_path,\n",
    "    load_and_preprocess_from_path_label,\n",
    ")\n",
    "from yolov8.tf import YOLOv8\n",
    "import tensorflow as tf\n",
    "\n",
    "# Load CSV data\n",
    "x, Y = load_csv_from_path(\"../../datasets/csv/mapping/prepared.csv\")\n",
    "\n",
    "# Get class labels\n",
    "train_labels = np.array(x[\"class\"].values)\n",
    "test_labels = np.array(Y[\"class\"].values)\n",
    "\n",
    "# Create dataset\n",
    "train_dataset = tf.data.Dataset.from_tensor_slices(\n",
    "    (x[\"image_path\"].values, train_labels)\n",
    ")\n",
    "test_dataset = tf.data.Dataset.from_tensor_slices((Y[\"image_path\"].values, test_labels))\n",
    "\n",
    "# Load and preprocess images\n",
    "train_dataset = train_dataset.map(load_and_preprocess_from_path_label)\n",
    "test_dataset = test_dataset.map(load_and_preprocess_from_path_label)\n",
    "\n",
    "# Shuffle and batch the dataset\n",
    "train_dataset = train_dataset.shuffle(1024).batch(32)\n",
    "test_dataset = test_dataset.batch(32)\n",
    "\n",
    "# Configuring the model\n",
    "num_classes = len(\n",
    "    np.unique(train_labels)\n",
    ")  # Assuming this is the number of unique classes in your data\n",
    "model = YOLOv8(input_shape=(416, 416, 3), num_classes=num_classes)\n",
    "\n",
    "# Compiling the model (you might want to check the loss function in the documentation of YOLOv8 you're using)\n",
    "model.compile(optimizer=\"adam\", loss=\"categorical_crossentropy\", metrics=[\"accuracy\"])\n",
    "\n",
    "# Training the model\n",
    "model.fit(train_dataset, epochs=10, validation_data=test_dataset)"
   ]
  },
  {
   "cell_type": "code",
   "execution_count": null,
   "metadata": {},
   "outputs": [],
   "source": []
  }
 ],
 "metadata": {
  "kernelspec": {
   "display_name": "Autonomous Vehicles MC Research",
   "language": "python",
   "name": "avai"
  },
  "language_info": {
   "codemirror_mode": {
    "name": "ipython",
    "version": 3
   },
   "file_extension": ".py",
   "mimetype": "text/x-python",
   "name": "python",
   "nbconvert_exporter": "python",
   "pygments_lexer": "ipython3",
   "version": "3.9.2"
  },
  "orig_nbformat": 4
 },
 "nbformat": 4,
 "nbformat_minor": 2
}
