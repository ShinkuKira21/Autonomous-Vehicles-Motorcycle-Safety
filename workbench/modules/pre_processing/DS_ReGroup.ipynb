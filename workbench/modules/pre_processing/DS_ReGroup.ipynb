{
 "cells": [
  {
   "cell_type": "code",
   "execution_count": null,
   "metadata": {},
   "outputs": [],
   "source": [
    "import os\n",
    "import shutil\n",
    "\n",
    "def group_files(base_dir, exts, new_folder):\n",
    "    # Create new directory if it doesn't exist\n",
    "    new_dir = os.path.join(base_dir, new_folder)\n",
    "    if not os.path.exists(new_dir):\n",
    "        os.makedirs(new_dir)\n",
    "\n",
    "    for root, dirs, files in os.walk(base_dir):\n",
    "        for file in files:\n",
    "            if file.split('.')[-1] in exts:\n",
    "                old_file_path = os.path.join(root, file)\n",
    "                new_file_path = os.path.join(new_dir, file)\n",
    "                shutil.move(old_file_path, new_file_path)\n",
    "\n",
    "# Define your base directory\n",
    "base_dir = \"../../datasets/raw/Roboflow\"\n",
    "\n",
    "# Move all png, jpg, jpeg, and gif files to ./images\n",
    "group_files(base_dir, [\"png\", \"jpg\", \"jpeg\", \"gif\"], \"images\")\n",
    "\n",
    "# Move all txt files to ./labels\n",
    "group_files(base_dir, [\"txt\"], \"labels\")"
   ]
  },
  {
   "cell_type": "code",
   "execution_count": 26,
   "metadata": {},
   "outputs": [
    {
     "ename": "FileNotFoundError",
     "evalue": "[Errno 2] No such file or directory: '../../datasets/raw/Roboflow/labels/vi_0018_20220312_060002849_jpg.rf.3d852215d831ff5cdfc431977b5318ee.txt'",
     "output_type": "error",
     "traceback": [
      "\u001b[0;31m---------------------------------------------------------------------------\u001b[0m",
      "\u001b[0;31mFileNotFoundError\u001b[0m                         Traceback (most recent call last)",
      "File \u001b[0;32m/usr/lib/python3.9/shutil.py:806\u001b[0m, in \u001b[0;36mmove\u001b[0;34m(src, dst, copy_function)\u001b[0m\n\u001b[1;32m    805\u001b[0m \u001b[39mtry\u001b[39;00m:\n\u001b[0;32m--> 806\u001b[0m     os\u001b[39m.\u001b[39;49mrename(src, real_dst)\n\u001b[1;32m    807\u001b[0m \u001b[39mexcept\u001b[39;00m \u001b[39mOSError\u001b[39;00m:\n",
      "\u001b[0;31mFileNotFoundError\u001b[0m: [Errno 2] No such file or directory: '../../datasets/raw/Roboflow/test/labels/vi_0018_20220312_060002849_jpg.rf.3d852215d831ff5cdfc431977b5318ee.txt' -> '../../datasets/raw/Roboflow/labels/vi_0018_20220312_060002849_jpg.rf.3d852215d831ff5cdfc431977b5318ee.txt'",
      "\nDuring handling of the above exception, another exception occurred:\n",
      "\u001b[0;31mFileNotFoundError\u001b[0m                         Traceback (most recent call last)",
      "Cell \u001b[0;32mIn[26], line 24\u001b[0m\n\u001b[1;32m     22\u001b[0m     dst_file_path \u001b[39m=\u001b[39m os\u001b[39m.\u001b[39mpath\u001b[39m.\u001b[39mjoin(target_dir, new_filename)\n\u001b[1;32m     23\u001b[0m     counter \u001b[39m+\u001b[39m\u001b[39m=\u001b[39m \u001b[39m1\u001b[39m\n\u001b[0;32m---> 24\u001b[0m shutil\u001b[39m.\u001b[39;49mmove(src_file_path, dst_file_path)\n",
      "File \u001b[0;32m/usr/lib/python3.9/shutil.py:820\u001b[0m, in \u001b[0;36mmove\u001b[0;34m(src, dst, copy_function)\u001b[0m\n\u001b[1;32m    818\u001b[0m         rmtree(src)\n\u001b[1;32m    819\u001b[0m     \u001b[39melse\u001b[39;00m:\n\u001b[0;32m--> 820\u001b[0m         copy_function(src, real_dst)\n\u001b[1;32m    821\u001b[0m         os\u001b[39m.\u001b[39munlink(src)\n\u001b[1;32m    822\u001b[0m \u001b[39mreturn\u001b[39;00m real_dst\n",
      "File \u001b[0;32m/usr/lib/python3.9/shutil.py:435\u001b[0m, in \u001b[0;36mcopy2\u001b[0;34m(src, dst, follow_symlinks)\u001b[0m\n\u001b[1;32m    433\u001b[0m \u001b[39mif\u001b[39;00m os\u001b[39m.\u001b[39mpath\u001b[39m.\u001b[39misdir(dst):\n\u001b[1;32m    434\u001b[0m     dst \u001b[39m=\u001b[39m os\u001b[39m.\u001b[39mpath\u001b[39m.\u001b[39mjoin(dst, os\u001b[39m.\u001b[39mpath\u001b[39m.\u001b[39mbasename(src))\n\u001b[0;32m--> 435\u001b[0m copyfile(src, dst, follow_symlinks\u001b[39m=\u001b[39;49mfollow_symlinks)\n\u001b[1;32m    436\u001b[0m copystat(src, dst, follow_symlinks\u001b[39m=\u001b[39mfollow_symlinks)\n\u001b[1;32m    437\u001b[0m \u001b[39mreturn\u001b[39;00m dst\n",
      "File \u001b[0;32m/usr/lib/python3.9/shutil.py:264\u001b[0m, in \u001b[0;36mcopyfile\u001b[0;34m(src, dst, follow_symlinks)\u001b[0m\n\u001b[1;32m    262\u001b[0m     os\u001b[39m.\u001b[39msymlink(os\u001b[39m.\u001b[39mreadlink(src), dst)\n\u001b[1;32m    263\u001b[0m \u001b[39melse\u001b[39;00m:\n\u001b[0;32m--> 264\u001b[0m     \u001b[39mwith\u001b[39;00m \u001b[39mopen\u001b[39m(src, \u001b[39m'\u001b[39m\u001b[39mrb\u001b[39m\u001b[39m'\u001b[39m) \u001b[39mas\u001b[39;00m fsrc, \u001b[39mopen\u001b[39;49m(dst, \u001b[39m'\u001b[39;49m\u001b[39mwb\u001b[39;49m\u001b[39m'\u001b[39;49m) \u001b[39mas\u001b[39;00m fdst:\n\u001b[1;32m    265\u001b[0m         \u001b[39m# macOS\u001b[39;00m\n\u001b[1;32m    266\u001b[0m         \u001b[39mif\u001b[39;00m _HAS_FCOPYFILE:\n\u001b[1;32m    267\u001b[0m             \u001b[39mtry\u001b[39;00m:\n",
      "\u001b[0;31mFileNotFoundError\u001b[0m: [Errno 2] No such file or directory: '../../datasets/raw/Roboflow/labels/vi_0018_20220312_060002849_jpg.rf.3d852215d831ff5cdfc431977b5318ee.txt'"
     ]
    }
   ],
   "source": [
    "import os\n",
    "import shutil\n",
    "\n",
    "rel_dir: str = '../../datasets/raw/Roboflow'\n",
    "directories: list[str] = [os.path.join(rel_dir, dir_name) for dir_name in [\"test\", \"train\", \"valid\"]]\n",
    "target_dirs: list[str] = [os.path.join(rel_dir, dir_name) for dir_name in [\"labels\", \"images\"]]\n",
    "\n",
    "counter = 1  # a counter for renaming duplicate files\n",
    "\n",
    "for directory in directories:\n",
    "    for target_dir in target_dirs:\n",
    "        src_dir = os.path.join(directory, os.path.basename(target_dir))\n",
    "        if os.path.exists(src_dir):\n",
    "            for filename in os.listdir(src_dir):\n",
    "                src_file_path = os.path.join(src_dir, filename)\n",
    "                dst_file_path = os.path.join(target_dir, filename)\n",
    "                # If a file with the same name already exists in the destination directory,\n",
    "                # append a unique number (counter) to the file name.\n",
    "                while os.path.exists(dst_file_path):\n",
    "                    filename_split = os.path.splitext(filename)\n",
    "                    new_filename = f\"{filename_split[0]}_{counter}{filename_split[1]}\"\n",
    "                    dst_file_path = os.path.join(target_dir, new_filename)\n",
    "                    counter += 1\n",
    "                shutil.move(src_file_path, dst_file_path)\n"
   ]
  },
  {
   "cell_type": "code",
   "execution_count": null,
   "metadata": {},
   "outputs": [],
   "source": []
  }
 ],
 "metadata": {
  "kernelspec": {
   "display_name": "Autonomous Vehicles MC Research",
   "language": "python",
   "name": "avai"
  },
  "language_info": {
   "codemirror_mode": {
    "name": "ipython",
    "version": 3
   },
   "file_extension": ".py",
   "mimetype": "text/x-python",
   "name": "python",
   "nbconvert_exporter": "python",
   "pygments_lexer": "ipython3",
   "version": "3.9.2"
  },
  "orig_nbformat": 4
 },
 "nbformat": 4,
 "nbformat_minor": 2
}
