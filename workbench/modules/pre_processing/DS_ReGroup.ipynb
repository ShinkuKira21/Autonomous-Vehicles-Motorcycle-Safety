{
 "cells": [
  {
   "cell_type": "code",
   "execution_count": 2,
   "metadata": {},
   "outputs": [],
   "source": [
    "import os\n",
    "import shutil\n",
    "\n",
    "\n",
    "def group_files(base_dir, exts, new_folder):\n",
    "    # Create new directory if it doesn't exist\n",
    "    new_dir = os.path.join(base_dir, new_folder)\n",
    "    if not os.path.exists(new_dir):\n",
    "        os.makedirs(new_dir)\n",
    "\n",
    "    for root, dirs, files in os.walk(base_dir):\n",
    "        for file in files:\n",
    "            if file.split(\".\")[-1] in exts:\n",
    "                old_file_path = os.path.join(root, file)\n",
    "                new_file_path = os.path.join(new_dir, file)\n",
    "                shutil.move(old_file_path, new_file_path)"
   ]
  },
  {
   "cell_type": "code",
   "execution_count": null,
   "metadata": {},
   "outputs": [],
   "source": [
    "# Define your base directory\n",
    "base_dir = \"../../datasets/raw/Roboflow\"\n",
    "\n",
    "# Move all png, jpg, jpeg, and gif files to ./images\n",
    "group_files(base_dir, [\"png\", \"jpg\", \"jpeg\", \"gif\"], \"images\")\n",
    "\n",
    "# Move all txt files to ./labels\n",
    "group_files(base_dir, [\"txt\"], \"labels\")"
   ]
  },
  {
   "cell_type": "code",
   "execution_count": 3,
   "metadata": {},
   "outputs": [],
   "source": [
    "import os\n",
    "import shutil\n",
    "\n",
    "# Define your base directory\n",
    "base_dir = \"../../datasets/raw/Traffic\"\n",
    "\n",
    "# Move all png, jpg, jpeg, and gif files to ./images\n",
    "group_files(base_dir, [\"png\", \"jpg\", \"jpeg\", \"gif\"], \"images\")\n",
    "\n",
    "# Move all txt files to ./labels\n",
    "group_files(base_dir, [\"txt\"], \"labels\")"
   ]
  }
 ],
 "metadata": {
  "kernelspec": {
   "display_name": "Autonomous Vehicles MC Research",
   "language": "python",
   "name": "avai"
  },
  "language_info": {
   "codemirror_mode": {
    "name": "ipython",
    "version": 3
   },
   "file_extension": ".py",
   "mimetype": "text/x-python",
   "name": "python",
   "nbconvert_exporter": "python",
   "pygments_lexer": "ipython3",
   "version": "3.9.2"
  },
  "orig_nbformat": 4
 },
 "nbformat": 4,
 "nbformat_minor": 2
}
